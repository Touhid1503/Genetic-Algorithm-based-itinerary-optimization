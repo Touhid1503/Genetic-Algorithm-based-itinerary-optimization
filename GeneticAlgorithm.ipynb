{
 "cells": [
  {
   "cell_type": "code",
   "execution_count": 1,
   "id": "803dd9ff",
   "metadata": {},
   "outputs": [],
   "source": [
    "import pandas as pd\n",
    "import numpy as np\n",
    "import xgboost as xgb\n",
    "\n",
    "from copy import copy\n",
    "import datetime\n",
    "import pickle\n",
    "from geopy.geocoders import Nominatim"
   ]
  },
  {
   "cell_type": "code",
   "execution_count": 2,
   "id": "9f9acf0f",
   "metadata": {},
   "outputs": [],
   "source": [
    "filename = \"xgb_model.sav\"\n",
    "loaded_model = pickle.load(open(filename, 'rb'))"
   ]
  },
  {
   "cell_type": "code",
   "execution_count": 3,
   "id": "83d8298d",
   "metadata": {},
   "outputs": [],
   "source": [
    "#Sample date\n",
    "\n",
    "date_list = [15, 5, 2022] #May 15, 2022\n",
    "\n",
    "year = int(date_list[2])\n",
    "month = int(date_list[1])\n",
    "day = int(date_list[0])\n",
    "\n",
    "my_date = datetime.date(year, month, day)\n",
    "my_date\n",
    "\n",
    "#Creating Sample test locations (Took first seven locations of the dataset)\n",
    "\n",
    "test_locations = {'L1': (40.76793671, -73.98215485),\n",
    "                  'L2': (40.76560211, -73.96463013),\n",
    "                  'L3': (40.73856354, -73.98041534),\n",
    "                  'L4': (40.73115158, -73.9994812),\n",
    "                  'L5': (40.7639389, -73.97902679),\n",
    "                  'L6': (40.71008682, -74.00533295),\n",
    "                  'L7': (40.7199707, -74.01004028)\n",
    "                  }\n"
   ]
  },
  {
   "cell_type": "code",
   "execution_count": 4,
   "id": "0edc0d85",
   "metadata": {},
   "outputs": [
    {
     "data": {
      "text/plain": [
       "['59th Street–Columbus Circle, Central Park Outer Loop, Manhattan, New York County, New York, 10023-7692, United States',\n",
       " '146, East 65th Street, Manhattan Community Board 8, New York County, New York, 10065, United States',\n",
       " '421, 2nd Avenue, Kips Bay, Manhattan Community Board 6, New York County, New York, 10010, United States',\n",
       " 'New York University, Jones Alley, Manhattan Community Board 2, New York County, New York, 10012-3332, United States',\n",
       " 'Avenue of the Americas Plaza, West 56th Street, Midtown, Manhattan Community Board 5, New York County, New York, 10019, United States',\n",
       " 'Wall Street Synagogue, 47, Beekman Street, Financial District, Manhattan Community Board 1, New York County, New York, 10038, United States',\n",
       " '377, Greenwich Street, Tribeca, Manhattan Community Board 1, New York County, New York, 10013, United States']"
      ]
     },
     "execution_count": 4,
     "metadata": {},
     "output_type": "execute_result"
    }
   ],
   "source": [
    "#we can get addresses using geolocator\n",
    "geolocator = Nominatim(user_agent=\"MyApp\")\n",
    "addresses = []\n",
    "\n",
    "for key in test_locations:\n",
    "    location = geolocator.reverse(test_locations[key])\n",
    "    addresses.append(location.address)\n",
    "\n",
    "addresses"
   ]
  },
  {
   "cell_type": "code",
   "execution_count": 5,
   "id": "768d71d5",
   "metadata": {},
   "outputs": [
    {
     "data": {
      "text/plain": [
       "{'L1': '59th Street–Columbus Circle NY',\n",
       " 'L2': '146 East 65th Street NY',\n",
       " 'L3': '421 2nd Avenue Kips Bay NY',\n",
       " 'L4': 'New York University Jones Alley NY',\n",
       " 'L5': 'Avenue of the Americas Plaza West 56th Street Midtown NY',\n",
       " 'L6': '47 Beekman Street Financial District NY',\n",
       " 'L7': '377 Greenwich Street Tribeca NY'}"
      ]
     },
     "execution_count": 5,
     "metadata": {},
     "output_type": "execute_result"
    }
   ],
   "source": [
    "#let's clean up the addresses and form test addresses list\n",
    "test_addresses = {'L1': '59th Street–Columbus Circle NY',\n",
    "                  'L2': '146 East 65th Street NY',\n",
    "                  'L3': '421 2nd Avenue Kips Bay NY',\n",
    "                  'L4': 'New York University Jones Alley NY',\n",
    "                  'L5': 'Avenue of the Americas Plaza West 56th Street Midtown NY',\n",
    "                  'L6': '47 Beekman Street Financial District NY',\n",
    "                  'L7': '377 Greenwich Street Tribeca NY'    \n",
    "             }\n",
    "test_addresses"
   ]
  },
  {
   "cell_type": "code",
   "execution_count": 7,
   "id": "2ac6d6e5",
   "metadata": {},
   "outputs": [
    {
     "name": "stdout",
     "output_type": "stream",
     "text": [
      "dict_keys(['L1', 'L2', 'L3', 'L4', 'L5', 'L6', 'L7'])\n"
     ]
    },
    {
     "data": {
      "text/plain": [
       "['L3', 'L4', 'L2', 'L7', 'L6', 'L1', 'L5', 'L3']"
      ]
     },
     "execution_count": 7,
     "metadata": {},
     "output_type": "execute_result"
    }
   ],
   "source": [
    "def create_guess(points):\n",
    "    \"\"\"\n",
    "    Creates a possible path between all points, returning to the original.\n",
    "    Input: List of point IDs\n",
    "    \"\"\"\n",
    "    guess = copy(points)\n",
    "    np.random.shuffle(guess)\n",
    "    guess.append(guess[0])\n",
    "    return list(guess)\n",
    "print(test_locations.keys())\n",
    "create_guess(list(test_locations.keys()))\n"
   ]
  },
  {
   "cell_type": "code",
   "execution_count": 9,
   "id": "089664ac",
   "metadata": {},
   "outputs": [
    {
     "name": "stdout",
     "output_type": "stream",
     "text": [
      "[['L6', 'L5', 'L2', 'L7', 'L3', 'L1', 'L4', 'L6'], ['L2', 'L3', 'L7', 'L5', 'L4', 'L1', 'L6', 'L2'], ['L6', 'L2', 'L7', 'L1', 'L4', 'L3', 'L5', 'L6'], ['L7', 'L2', 'L3', 'L5', 'L1', 'L4', 'L6', 'L7'], ['L2', 'L5', 'L3', 'L6', 'L1', 'L7', 'L4', 'L2'], ['L3', 'L1', 'L7', 'L5', 'L6', 'L2', 'L4', 'L3'], ['L1', 'L2', 'L6', 'L7', 'L3', 'L5', 'L4', 'L1'], ['L1', 'L6', 'L5', 'L2', 'L3', 'L7', 'L4', 'L1'], ['L6', 'L7', 'L3', 'L1', 'L5', 'L4', 'L2', 'L6'], ['L2', 'L5', 'L7', 'L4', 'L3', 'L6', 'L1', 'L2']]\n"
     ]
    }
   ],
   "source": [
    "def create_generation(points, population=100):\n",
    "    \"\"\"\n",
    "    Makes a list of guessed point orders given a list of point IDs.\n",
    "    Input:\n",
    "    points: list of point ids\n",
    "    population: how many guesses to make\n",
    "    \"\"\"\n",
    "    generation = [create_guess(points) for _ in range(population)]\n",
    "    return generation\n",
    "\n",
    "test_generation = create_generation(list(test_locations.keys()), population=10)\n",
    "print(test_generation)"
   ]
  },
  {
   "cell_type": "code",
   "execution_count": 30,
   "id": "b7a6e01f",
   "metadata": {},
   "outputs": [
    {
     "name": "stdout",
     "output_type": "stream",
     "text": [
      "{'L1': (40.76793671, -73.98215485), 'L2': (40.76560211, -73.96463013), 'L3': (40.73856354, -73.98041534), 'L4': (40.73115158, -73.9994812), 'L5': (40.7639389, -73.97902679), 'L6': (40.71008682, -74.00533295), 'L7': (40.7199707, -74.01004028)}\n"
     ]
    }
   ],
   "source": [
    "def travel_time_between_points(point1_id, point2_id, hour, date, passenger_count = 1, \n",
    "                               store_and_fwd_flag = 0, pickup_minute = 0):\n",
    "    \"\"\"\n",
    "    Given two points, this calculates travel between them based on a XGBoost predictive model\n",
    "    \"\"\"\n",
    "    \n",
    "    model_data = {'passenger_count': passenger_count,\n",
    "                  'pickup_longitude' : point1_id[1],\n",
    "                  'pickup_latitude' : point1_id[0],\n",
    "                  'dropoff_longitude' : point2_id[1],\n",
    "                  'dropoff_latitude' : point2_id[0],\n",
    "                  'store_and_fwd_flag' : store_and_fwd_flag,\n",
    "                  'pickup_month' : my_date.month,\n",
    "                  'pickup_day' : my_date.day,\n",
    "                  'pickup_weekday' : my_date.weekday(),\n",
    "                  'pickup_hour': hour,\n",
    "                  'pickup_minute' : pickup_minute,\n",
    "                  'latitude_difference' : point2_id[0] - point1_id[0],\n",
    "                  'longitude_difference' : point2_id[1] - point1_id[1],\n",
    "                  'trip_distance' : 0.621371 * 6371 * (abs(2 * np.arctan2(np.sqrt(np.square(np.sin((abs(point2_id[0] - point1_id[0]) * np.pi / 180) / 2))), \n",
    "                                  np.sqrt(1-(np.square(np.sin((abs(point2_id[0] - point1_id[0]) * np.pi / 180) / 2)))))) + \\\n",
    "                                     abs(2 * np.arctan2(np.sqrt(np.square(np.sin((abs(point2_id[1] - point1_id[1]) * np.pi / 180) / 2))), \n",
    "                                  np.sqrt(1-(np.square(np.sin((abs(point2_id[1] - point1_id[1]) * np.pi / 180) / 2)))))))\n",
    "                 }\n",
    "\n",
    "    df = pd.DataFrame([model_data], columns=model_data.keys())\n",
    "    \n",
    "    pred = np.exp(loaded_model.predict(xgb.DMatrix(df))) - 1\n",
    "    \n",
    "    return pred[0]\n",
    "\n",
    "coordinates = test_locations\n",
    "print(coordinates)\n",
    "\n",
    "#travel_time_between_points(coordinates['L3'], coordinates['L6'], 11, my_date)\n",
    "#coordinates = test_locations\n",
    "#print(coordinates)\n"
   ]
  },
  {
   "cell_type": "code",
   "execution_count": 31,
   "id": "1e199a4c",
   "metadata": {},
   "outputs": [
    {
     "name": "stdout",
     "output_type": "stream",
     "text": [
      "[(['L6', 'L5', 'L2', 'L7', 'L3', 'L1', 'L4', 'L6'], 109.67423677444458), (['L2', 'L3', 'L7', 'L5', 'L4', 'L1', 'L6', 'L2'], 122.93982410430908), (['L6', 'L2', 'L7', 'L1', 'L4', 'L3', 'L5', 'L6'], 125.08935642242432), (['L7', 'L2', 'L3', 'L5', 'L1', 'L4', 'L6', 'L7'], 85.55466842651367), (['L2', 'L5', 'L3', 'L6', 'L1', 'L7', 'L4', 'L2'], 102.80579376220703), (['L3', 'L1', 'L7', 'L5', 'L6', 'L2', 'L4', 'L3'], 129.72163581848145), (['L1', 'L2', 'L6', 'L7', 'L3', 'L5', 'L4', 'L1'], 98.91484785079956), (['L1', 'L6', 'L5', 'L2', 'L3', 'L7', 'L4', 'L1'], 101.58901357650757), (['L6', 'L7', 'L3', 'L1', 'L5', 'L4', 'L2', 'L6'], 95.36197471618652), (['L2', 'L5', 'L7', 'L4', 'L3', 'L6', 'L1', 'L2'], 89.0522928237915)]\n"
     ]
    }
   ],
   "source": [
    "def fitness_score(guess):\n",
    "    \"\"\"\n",
    "    Loops through the points in the guesses order and calculates\n",
    "    how much distance the path would take to complete a loop.\n",
    "    Lower is better.\n",
    "    \"\"\"\n",
    "    score = 0\n",
    "    for ix, point_id in enumerate(guess[:-1]):\n",
    "        score += travel_time_between_points(coordinates[point_id], coordinates[guess[ix+1]], 11, my_date)\n",
    "    return score\n",
    "\n",
    "def check_fitness(guesses):\n",
    "    \"\"\"\n",
    "    Goes through every guess and calculates the fitness score. \n",
    "    Returns a list of tuples: (guess, fitness_score)\n",
    "    \"\"\"\n",
    "    fitness_indicator = []\n",
    "    for guess in guesses:\n",
    "        fitness_indicator.append((guess, fitness_score(guess)))\n",
    "    return fitness_indicator\n",
    "\n",
    "print(check_fitness(test_generation))"
   ]
  },
  {
   "cell_type": "code",
   "execution_count": 43,
   "id": "a7a7236d",
   "metadata": {},
   "outputs": [],
   "source": [
    "#test_generation = create_generation(list(test_locations.keys()), population=10)\n",
    "def get_breeders_from_generation(guesses, take_best_N=10, take_random_N=5, verbose=True, mutation_rate=0.1):\n",
    "    \"\"\"\n",
    "    This sets up the breeding group for the next generation. You have\n",
    "    to be very careful how many breeders you take, otherwise your\n",
    "    population can explode. These two, plus the \"number of children per couple\"\n",
    "    in the make_children function must be tuned to avoid exponential growth or decline!\n",
    "    \"\"\"\n",
    "    # First, get the top guesses from last time\n",
    "    fit_scores = check_fitness(guesses)\n",
    "    sorted_guesses = sorted(fit_scores, key=lambda x: x[1]) # sorts so lowest is first, which we want\n",
    "    new_generation = [x[0] for x in sorted_guesses[:take_best_N]]\n",
    "    best_guess = new_generation[0]\n",
    "    \n",
    "    if verbose:\n",
    "        # If we want to see what the best current guess is!\n",
    "        print(best_guess)\n",
    "    \n",
    "    # Second, get some random ones for genetic diversity\n",
    "    for _ in range(take_random_N):\n",
    "        ix = np.random.randint(len(guesses))\n",
    "        new_generation.append(guesses[ix])\n",
    "        \n",
    "    # No mutations here since the order really matters.\n",
    "    # If we wanted to, we could add a \"swapping\" mutation,\n",
    "    # but in practice it doesn't seem to be necessary\n",
    "    \n",
    "    np.random.shuffle(new_generation)\n",
    "    return new_generation, best_guess\n",
    "\n",
    "#test_generation = create_generation(list(test_locations.keys()), population=10)\n",
    "#new_generation, best_guess =get_breeders_from_generation(test_generation, take_best_N=10, take_random_N=5, verbose=True, mutation_rate=0.1)\n",
    "\n",
    "def make_child(parent1, parent2):\n",
    "    \n",
    "    \"\"\" \n",
    "    Take some values from parent 1 and hold them in place, then merge in values\n",
    "    from parent2, filling in from left to right with cities that aren't already in \n",
    "    the child. \n",
    "    \"\"\"\n",
    "    list_of_ids_for_parent1 = list(np.random.choice(parent1, replace=False, size=len(parent1)//2))\n",
    "    child = [-99 for _ in parent1]\n",
    "    \n",
    "    for ix in range(0, len(list_of_ids_for_parent1)):\n",
    "        child[ix] = parent1[ix]\n",
    "    for ix, gene in enumerate(child):\n",
    "        if gene == -99:\n",
    "            for gene2 in parent2:\n",
    "                if gene2 not in child:\n",
    "                    child[ix] = gene2\n",
    "                    break\n",
    "    child[-1] = child[0]\n",
    "    return child\n",
    "\n",
    "def make_children(old_generation, children_per_couple=1):\n",
    "    \"\"\"\n",
    "    Pairs parents together, and makes children for each pair. \n",
    "    If there are an odd number of parent possibilities, one \n",
    "    will be left out. \n",
    "    \n",
    "    Pairing happens by pairing the first and last entries. \n",
    "    Then the second and second from last, and so on.\n",
    "    \"\"\"\n",
    "    mid_point = len(old_generation)//2\n",
    "    next_generation = [] \n",
    "    \n",
    "    for ix, parent in enumerate(old_generation[:mid_point]):\n",
    "        for _ in range(children_per_couple):\n",
    "            next_generation.append(make_child(parent, old_generation[-ix-1]))\n",
    "    return next_generation\n",
    "\n"
   ]
  },
  {
   "cell_type": "code",
   "execution_count": 44,
   "id": "3c3c6970",
   "metadata": {},
   "outputs": [
    {
     "name": "stdout",
     "output_type": "stream",
     "text": [
      "Generation 0: ['L5', 'L2', 'L3', 'L6', 'L7', 'L4', 'L1', 'L5']\n",
      "Generation 5: ['L1', 'L5', 'L2', 'L6', 'L7', 'L4', 'L3', 'L1']\n",
      "Generation 10: ['L2', 'L6', 'L7', 'L4', 'L3', 'L1', 'L5', 'L2']\n",
      "Generation 15: ['L2', 'L6', 'L7', 'L4', 'L3', 'L1', 'L5', 'L2']\n",
      "Generation 20: ['L2', 'L6', 'L7', 'L4', 'L3', 'L1', 'L5', 'L2']\n",
      "Generation 25: ['L2', 'L6', 'L7', 'L4', 'L3', 'L1', 'L5', 'L2']\n",
      "Generation 30: ['L1', 'L5', 'L2', 'L6', 'L7', 'L4', 'L3', 'L1']\n",
      "Generation 35: ['L1', 'L5', 'L2', 'L6', 'L7', 'L4', 'L3', 'L1']\n",
      "Generation 40: ['L1', 'L5', 'L2', 'L6', 'L7', 'L4', 'L3', 'L1']\n",
      "Generation 45: ['L1', 'L5', 'L2', 'L6', 'L7', 'L4', 'L3', 'L1']\n",
      "Generation 50: ['L1', 'L5', 'L2', 'L6', 'L7', 'L4', 'L3', 'L1']\n",
      "Generation 55: ['L1', 'L5', 'L2', 'L6', 'L7', 'L4', 'L3', 'L1']\n",
      "Generation 60: ['L1', 'L5', 'L2', 'L6', 'L7', 'L4', 'L3', 'L1']\n",
      "Generation 65: ['L1', 'L5', 'L2', 'L6', 'L7', 'L4', 'L3', 'L1']\n",
      "Generation 70: ['L1', 'L5', 'L2', 'L6', 'L7', 'L4', 'L3', 'L1']\n",
      "Generation 75: ['L1', 'L5', 'L2', 'L6', 'L7', 'L4', 'L3', 'L1']\n",
      "Generation 80: ['L1', 'L5', 'L2', 'L6', 'L7', 'L4', 'L3', 'L1']\n",
      "Generation 85: ['L1', 'L5', 'L2', 'L6', 'L7', 'L4', 'L3', 'L1']\n",
      "Generation 90: ['L1', 'L5', 'L2', 'L6', 'L7', 'L4', 'L3', 'L1']\n",
      "Generation 95: ['L1', 'L5', 'L2', 'L6', 'L7', 'L4', 'L3', 'L1']\n"
     ]
    }
   ],
   "source": [
    "current_generation = create_generation(list(test_locations.keys()),population=500)\n",
    "print_every_n_generations = 5\n",
    "\n",
    "for i in range(100):\n",
    "    if not i % print_every_n_generations:\n",
    "        print(\"Generation %i: \"%i, end='')\n",
    "        #print(len(current_generation))\n",
    "        is_verbose = True\n",
    "    else:\n",
    "        is_verbose = False\n",
    "    breeders, best_guess = get_breeders_from_generation(current_generation, \n",
    "                                                        take_best_N=250, take_random_N=100, \n",
    "                                                        verbose=is_verbose)\n",
    "    current_generation = make_children(breeders, children_per_couple=3)"
   ]
  },
  {
   "cell_type": "code",
   "execution_count": 45,
   "id": "cd6909fa",
   "metadata": {},
   "outputs": [
    {
     "name": "stdout",
     "output_type": "stream",
     "text": [
      "Generation 5: Current Best Score:  59.48570251464844\n",
      "['L7', 'L4', 'L5', 'L1', 'L2', 'L3', 'L6', 'L7']\n",
      "Generation 10: Current Best Score:  59.48570251464844\n",
      "['L5', 'L1', 'L2', 'L3', 'L6', 'L7', 'L4', 'L5']\n",
      "Generation 15: Current Best Score:  59.48570251464844\n",
      "['L7', 'L4', 'L5', 'L1', 'L2', 'L3', 'L6', 'L7']\n",
      "Generation 20: Current Best Score:  59.48570251464844\n",
      "['L7', 'L4', 'L5', 'L1', 'L2', 'L3', 'L6', 'L7']\n",
      "Generation 25: Current Best Score:  59.48570251464844\n",
      "['L7', 'L4', 'L5', 'L1', 'L2', 'L3', 'L6', 'L7']\n",
      "Generation 30: Current Best Score:  59.48570251464844\n",
      "['L7', 'L4', 'L5', 'L1', 'L2', 'L3', 'L6', 'L7']\n",
      "Generation 35: Current Best Score:  59.48570251464844\n",
      "['L7', 'L4', 'L5', 'L1', 'L2', 'L3', 'L6', 'L7']\n",
      "Generation 40: Current Best Score:  59.48570251464844\n",
      "['L7', 'L4', 'L5', 'L1', 'L2', 'L3', 'L6', 'L7']\n",
      "Generation 45: Current Best Score:  59.48570251464844\n",
      "['L7', 'L4', 'L5', 'L1', 'L2', 'L3', 'L6', 'L7']\n",
      "Generation 50: Current Best Score:  59.48570251464844\n",
      "['L7', 'L4', 'L5', 'L1', 'L2', 'L3', 'L6', 'L7']\n",
      "Generation 55: Current Best Score:  59.48570251464844\n",
      "['L7', 'L4', 'L5', 'L1', 'L2', 'L3', 'L6', 'L7']\n",
      "Generation 60: Current Best Score:  59.48570251464844\n",
      "['L7', 'L4', 'L5', 'L1', 'L2', 'L3', 'L6', 'L7']\n",
      "Generation 65: Current Best Score:  59.48570251464844\n",
      "['L7', 'L4', 'L5', 'L1', 'L2', 'L3', 'L6', 'L7']\n",
      "Generation 70: Current Best Score:  59.48570251464844\n",
      "['L7', 'L4', 'L5', 'L1', 'L2', 'L3', 'L6', 'L7']\n",
      "Generation 75: Current Best Score:  59.48570251464844\n",
      "['L7', 'L4', 'L5', 'L1', 'L2', 'L3', 'L6', 'L7']\n",
      "Generation 80: Current Best Score:  59.48570251464844\n",
      "['L7', 'L4', 'L5', 'L1', 'L2', 'L3', 'L6', 'L7']\n",
      "Generation 85: Current Best Score:  59.48570251464844\n",
      "['L7', 'L4', 'L5', 'L1', 'L2', 'L3', 'L6', 'L7']\n",
      "Generation 90: Current Best Score:  59.48570251464844\n",
      "['L7', 'L4', 'L5', 'L1', 'L2', 'L3', 'L6', 'L7']\n",
      "Generation 95: Current Best Score:  59.48570251464844\n",
      "['L7', 'L4', 'L5', 'L1', 'L2', 'L3', 'L6', 'L7']\n"
     ]
    }
   ],
   "source": [
    "def evolve_to_solve(current_generation, max_generations, take_best_N, take_random_N,\n",
    "                    mutation_rate, children_per_couple, print_every_n_generations, verbose=False):\n",
    "    \"\"\"\n",
    "    Takes in a generation of guesses then evolves them over time using our breeding rules.\n",
    "    Continue this for \"max_generations\" times.\n",
    "    Inputs:\n",
    "    current_generation: The first generation of guesses\n",
    "    max_generations: how many generations to complete\n",
    "    take_best_N: how many of the top performers get selected to breed\n",
    "    take_random_N: how many random guesses get brought in to keep genetic diversity\n",
    "    mutation_rate: How often to mutate (currently unused)\n",
    "    children_per_couple: how many children per breeding pair\n",
    "    print_every_n_geneartions: how often to print in verbose mode\n",
    "    verbose: Show printouts of progress\n",
    "    Returns:\n",
    "    fitness_tracking: a list of the fitness score at each generations\n",
    "    best_guess: the best_guess at the end of evolution\n",
    "    \"\"\"\n",
    "    fitness_tracking = []\n",
    "    for i in range(max_generations):\n",
    "        if verbose and not i % print_every_n_generations and i>0:\n",
    "            print(\"Generation %i: \"%i, end='')\n",
    "            #print(len(current_generation))\n",
    "            print(\"Current Best Score: \", fitness_tracking[-1])\n",
    "            is_verbose = True\n",
    "        else:\n",
    "            is_verbose = False      \n",
    "        breeders, best_guess = get_breeders_from_generation(current_generation, \n",
    "                                                            take_best_N=take_best_N, take_random_N=take_random_N, \n",
    "                                                            verbose=is_verbose, mutation_rate=mutation_rate)\n",
    "        fitness_tracking.append(fitness_score(best_guess))\n",
    "        current_generation = make_children(breeders, children_per_couple=children_per_couple)\n",
    "    \n",
    "    return fitness_tracking, best_guess\n",
    "\n",
    "current_generation = create_generation(list(test_locations.keys()),population=500)\n",
    "fitness_tracking, best_guess = evolve_to_solve(current_generation, 100, 150, 70, 0.5, 3, 5, verbose=True)"
   ]
  },
  {
   "cell_type": "code",
   "execution_count": null,
   "id": "802d9362",
   "metadata": {},
   "outputs": [],
   "source": []
  }
 ],
 "metadata": {
  "kernelspec": {
   "display_name": "Python 3 (ipykernel)",
   "language": "python",
   "name": "python3"
  },
  "language_info": {
   "codemirror_mode": {
    "name": "ipython",
    "version": 3
   },
   "file_extension": ".py",
   "mimetype": "text/x-python",
   "name": "python",
   "nbconvert_exporter": "python",
   "pygments_lexer": "ipython3",
   "version": "3.9.7"
  }
 },
 "nbformat": 4,
 "nbformat_minor": 5
}
